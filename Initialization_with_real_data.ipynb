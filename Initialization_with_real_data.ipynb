{
 "cells": [
  {
   "cell_type": "code",
   "metadata": {
    "ExecuteTime": {
     "end_time": "2024-12-08T17:42:42.509290Z",
     "start_time": "2024-12-08T17:42:42.441972Z"
    }
   },
   "source": [
    "from src.app.dataprocessing_functions import machine, kpi, store_path\n",
    "import pickle\n",
    "import json\n",
    "import os\n",
    "import pandas as pd\n",
    "\n",
    "# Define a relative path\n",
    "relative_path = os.path.join(\"initialization\", \"transformed_df.json\")\n",
    "\n",
    "# Use the current working directory\n",
    "script_dir = os.getcwd()  # Gets the current working directory\n",
    "\n",
    "# Combine with the relative path\n",
    "absolute_path = os.path.join(script_dir, relative_path)\n",
    "\n",
    "with open(absolute_path, \"r\") as file:\n",
    "    data=json.load(file)\n",
    "cleaned_df=pd.DataFrame(data) #this dataset (that is the cleaned one will be used up to the 16/09)\n",
    "cleaned_df['time']=pd.to_datetime(cleaned_df['time'])\n",
    "cleaned_df=cleaned_df.sort_values(by='time').reset_index(drop=True)\n",
    "cleaned_df['time'] = cleaned_df['time'].apply(str)\n",
    "cleaned_df.loc[:38399] #--> historical data\n",
    "\n",
    "with open(\"C:\\\\Users\\\\mcapo\\\\Desktop\\\\Smart app project\\\\definitive\\definitivo_3\\\\cleaned_predicted_dataset.json\", \"w\") as file:\n",
    "    json.dump(cleaned_df.to_dict(),file, indent=1)\n"
   ],
   "outputs": [
    {
     "ename": "ModuleNotFoundError",
     "evalue": "No module named 'statsmodels'",
     "output_type": "error",
     "traceback": [
      "\u001B[0;31m---------------------------------------------------------------------------\u001B[0m",
      "\u001B[0;31mModuleNotFoundError\u001B[0m                       Traceback (most recent call last)",
      "Cell \u001B[0;32mIn[2], line 1\u001B[0m\n\u001B[0;32m----> 1\u001B[0m \u001B[38;5;28;01mfrom\u001B[39;00m \u001B[38;5;21;01msrc\u001B[39;00m\u001B[38;5;21;01m.\u001B[39;00m\u001B[38;5;21;01mapp\u001B[39;00m\u001B[38;5;21;01m.\u001B[39;00m\u001B[38;5;21;01mdataprocessing_functions\u001B[39;00m \u001B[38;5;28;01mimport\u001B[39;00m machine, kpi, store_path\n\u001B[1;32m      2\u001B[0m \u001B[38;5;28;01mimport\u001B[39;00m \u001B[38;5;21;01mpickle\u001B[39;00m\n\u001B[1;32m      3\u001B[0m \u001B[38;5;28;01mimport\u001B[39;00m \u001B[38;5;21;01mjson\u001B[39;00m\n",
      "File \u001B[0;32m~/Desktop/Magistrale/SA/api-gateway/data-preprocessing-/src/app/dataprocessing_functions.py:9\u001B[0m\n\u001B[1;32m      7\u001B[0m \u001B[38;5;28;01mfrom\u001B[39;00m \u001B[38;5;21;01mcollections\u001B[39;00m \u001B[38;5;28;01mimport\u001B[39;00m OrderedDict, deque\n\u001B[1;32m      8\u001B[0m \u001B[38;5;28;01mfrom\u001B[39;00m \u001B[38;5;21;01mdatetime\u001B[39;00m \u001B[38;5;28;01mimport\u001B[39;00m datetime\n\u001B[0;32m----> 9\u001B[0m \u001B[38;5;28;01mfrom\u001B[39;00m \u001B[38;5;21;01mstatsmodels\u001B[39;00m\u001B[38;5;21;01m.\u001B[39;00m\u001B[38;5;21;01mtsa\u001B[39;00m\u001B[38;5;21;01m.\u001B[39;00m\u001B[38;5;21;01mholtwinters\u001B[39;00m \u001B[38;5;28;01mimport\u001B[39;00m ExponentialSmoothing\n\u001B[1;32m     10\u001B[0m \u001B[38;5;28;01mfrom\u001B[39;00m \u001B[38;5;21;01mstatsmodels\u001B[39;00m\u001B[38;5;21;01m.\u001B[39;00m\u001B[38;5;21;01mtsa\u001B[39;00m\u001B[38;5;21;01m.\u001B[39;00m\u001B[38;5;21;01mstattools\u001B[39;00m \u001B[38;5;28;01mimport\u001B[39;00m adfuller\n\u001B[1;32m     11\u001B[0m \u001B[38;5;28;01mfrom\u001B[39;00m \u001B[38;5;21;01mstatsmodels\u001B[39;00m\u001B[38;5;21;01m.\u001B[39;00m\u001B[38;5;21;01mtsa\u001B[39;00m\u001B[38;5;21;01m.\u001B[39;00m\u001B[38;5;21;01mseasonal\u001B[39;00m \u001B[38;5;28;01mimport\u001B[39;00m seasonal_decompose\n",
      "\u001B[0;31mModuleNotFoundError\u001B[0m: No module named 'statsmodels'"
     ]
    }
   ],
   "execution_count": 2
  },
  {
   "cell_type": "code",
   "execution_count": 38,
   "metadata": {},
   "outputs": [],
   "source": [
    "# Define a relative path\n",
    "relative_path = os.path.join(\"initialization\", \"transformation_interrupted.json\")\n",
    "\n",
    "# Use the current working directory\n",
    "script_dir = os.getcwd()  # Gets the current working directory\n",
    "\n",
    "# Combine with the relative path\n",
    "absolute_path = os.path.join(script_dir, relative_path)\n",
    "with open(absolute_path, \"r\") as file:\n",
    "    data=json.load(file)\n",
    "original=pd.DataFrame(data[0])\n",
    "import numpy as np\n",
    "original['var']=np.nan\n",
    "original = original.reindex(columns=cleaned_df.columns).reset_index(drop=True)\n",
    "original['time']=pd.to_datetime(original['time'])\n",
    "original=original.sort_values(by='time').reset_index(drop=True)\n",
    "original['time'] = original['time'].apply(str)\n",
    "original.loc[38399+1:] #--> historical data\n",
    "\n",
    "with open(\"C:\\\\Users\\\\mcapo\\\\Desktop\\\\Smart app project\\\\definitive\\definitivo_3\\\\original_adapted_dataset.json\", \"w\") as file:\n",
    "    json.dump(original.to_dict(),file, indent=1)\n"
   ]
  }
 ],
 "metadata": {
  "kernelspec": {
   "display_name": "SmartApp",
   "language": "python",
   "name": "python3"
  },
  "language_info": {
   "codemirror_mode": {
    "name": "ipython",
    "version": 3
   },
   "file_extension": ".py",
   "mimetype": "text/x-python",
   "name": "python",
   "nbconvert_exporter": "python",
   "pygments_lexer": "ipython3",
   "version": "3.11.10"
  }
 },
 "nbformat": 4,
 "nbformat_minor": 2
}
