{
 "cells": [
  {
   "cell_type": "code",
   "execution_count": 37,
   "metadata": {},
   "outputs": [],
   "source": [
    "from dataprocessing_functions import machine, kpi, store_path\n",
    "import pickle\n",
    "import json\n",
    "import os\n",
    "import pandas as pd\n",
    "\n",
    "# Define a relative path\n",
    "relative_path = os.path.join(\"initialization\", \"transformed_df.json\")\n",
    "\n",
    "# Use the current working directory\n",
    "script_dir = os.getcwd()  # Gets the current working directory\n",
    "\n",
    "# Combine with the relative path\n",
    "absolute_path = os.path.join(script_dir, relative_path)\n",
    "\n",
    "with open(absolute_path, \"r\") as file:\n",
    "    data=json.load(file)\n",
    "cleaned_df=pd.DataFrame(data) #this dataset (that is the cleaned one will be used up to the 16/09)\n",
    "cleaned_df['time']=pd.to_datetime(cleaned_df['time'])\n",
    "cleaned_df=cleaned_df.sort_values(by='time').reset_index(drop=True)\n",
    "cleaned_df['time'] = cleaned_df['time'].apply(str)\n",
    "cleaned_df.loc[:38399] #--> historical data\n",
    "\n",
    "with open(\"C:\\\\Users\\\\mcapo\\\\Desktop\\\\Smart app project\\\\definitive\\definitivo_3\\\\cleaned_predicted_dataset.json\", \"w\") as file:\n",
    "    json.dump(cleaned_df.to_dict(),file, indent=1)\n"
   ]
  },
  {
   "cell_type": "code",
   "execution_count": 38,
   "metadata": {},
   "outputs": [],
   "source": [
    "# Define a relative path\n",
    "relative_path = os.path.join(\"initialization\", \"transformation_interrupted.json\")\n",
    "\n",
    "# Use the current working directory\n",
    "script_dir = os.getcwd()  # Gets the current working directory\n",
    "\n",
    "# Combine with the relative path\n",
    "absolute_path = os.path.join(script_dir, relative_path)\n",
    "with open(absolute_path, \"r\") as file:\n",
    "    data=json.load(file)\n",
    "original=pd.DataFrame(data[0])\n",
    "import numpy as np\n",
    "original['var']=np.nan\n",
    "original = original.reindex(columns=cleaned_df.columns).reset_index(drop=True)\n",
    "original['time']=pd.to_datetime(original['time'])\n",
    "original=original.sort_values(by='time').reset_index(drop=True)\n",
    "original['time'] = original['time'].apply(str)\n",
    "original.loc[38399+1:] #--> historical data\n",
    "\n",
    "with open(\"C:\\\\Users\\\\mcapo\\\\Desktop\\\\Smart app project\\\\definitive\\definitivo_3\\\\original_adapted_dataset.json\", \"w\") as file:\n",
    "    json.dump(original.to_dict(),file, indent=1)\n"
   ]
  }
 ],
 "metadata": {
  "kernelspec": {
   "display_name": "SmartApp",
   "language": "python",
   "name": "python3"
  },
  "language_info": {
   "codemirror_mode": {
    "name": "ipython",
    "version": 3
   },
   "file_extension": ".py",
   "mimetype": "text/x-python",
   "name": "python",
   "nbconvert_exporter": "python",
   "pygments_lexer": "ipython3",
   "version": "3.11.10"
  }
 },
 "nbformat": 4,
 "nbformat_minor": 2
}
