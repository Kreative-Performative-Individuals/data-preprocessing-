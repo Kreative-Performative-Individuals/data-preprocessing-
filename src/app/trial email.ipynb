{
 "cells": [
  {
   "cell_type": "code",
   "execution_count": 2,
   "metadata": {},
   "outputs": [
    {
     "name": "stdout",
     "output_type": "stream",
     "text": [
      "Email sent successfully!\n",
      "Email sent successfully!\n"
     ]
    }
   ],
   "source": [
    "from connection_functions import send_alert\n",
    "send_alert({'name':'Large Cutting Machine 1', 'asset_id':'ast-yhccl1zjue2t', 'kpi': 'time', 'operation': 'working'}, 'Anomaly', None, 78)\n",
    "send_alert({'name':'Large Cutting Machine 1', 'asset_id':'ast-yhccl1zjue2t', 'kpi': 'time', 'operation': 'working'}, 'NaN', 4, None)"
   ]
  }
 ],
 "metadata": {
  "kernelspec": {
   "display_name": "SmartApp",
   "language": "python",
   "name": "python3"
  },
  "language_info": {
   "codemirror_mode": {
    "name": "ipython",
    "version": 3
   },
   "file_extension": ".py",
   "mimetype": "text/x-python",
   "name": "python",
   "nbconvert_exporter": "python",
   "pygments_lexer": "ipython3",
   "version": "3.11.10"
  }
 },
 "nbformat": 4,
 "nbformat_minor": 2
}
