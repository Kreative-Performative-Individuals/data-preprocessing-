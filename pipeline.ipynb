{
 "cells": [
  {
   "cell_type": "code",
   "execution_count": null,
   "metadata": {},
   "outputs": [],
   "source": [
    "from data_cleaning_functions import cleaning_pipeline\n",
    "from information import create_info_object\n",
    "from machine_learning_functions import AnomalyDetector\n",
    "from machine_learning_functions import ADWIN_drift"
   ]
  },
  {
   "cell_type": "code",
   "execution_count": null,
   "metadata": {},
   "outputs": [],
   "source": [
    "def get_datapoint():\n",
    "    # In some manner receives data point as a dictionary of form\n",
    "    ''' datapoint={timestamp: datetime, \n",
    "        isset_id: string,\n",
    "        name: string,\n",
    "        kpi: string,\n",
    "        operation: string,\n",
    "        sum: float\n",
    "        avg: float,\n",
    "        min: float,\n",
    "        max: float,\n",
    "        var: float}'''\n",
    "    #for example\n",
    "\n",
    "    datapoint = {\n",
    "    'timestamp': 'timepoint',\n",
    "    'isset_id': 'ast-yhccl1zjue2t',\n",
    "    'name': 'metal_cutting',\n",
    "    'kpi': 'time',\n",
    "    'operation': 'working',\n",
    "    'sum': float, \n",
    "    'avg': float,\n",
    "    'min': float,\n",
    "    'max': float,\n",
    "    'var': float}\n",
    "    \n",
    "    return datapoint\n"
   ]
  },
  {
   "cell_type": "code",
   "execution_count": null,
   "metadata": {},
   "outputs": [],
   "source": [
    "#initializing the info manager\n",
    "im = create_info_object()"
   ]
  },
  {
   "cell_type": "code",
   "execution_count": null,
   "metadata": {},
   "outputs": [],
   "source": [
    "\n",
    "while True: #loops continuosly\n",
    "\n",
    "    #first we call get_datapoint and we wait for a new input to arrive\n",
    "    new_datapoint = get_datapoint()\n",
    "\n",
    "    #once the new data point is aquired we clean it\n",
    "    cleaned_datapoint = cleaning_pipeline(new_datapoint, im)\n",
    "\n",
    "    #we now check if some drift has been detected\n",
    "    drift_flag=ADWIN_drift(cleaned_datapoint, im)\n",
    "\n",
    "    #we call the database to extract historical data\n",
    "    historical_data = get_historical_data()\n",
    "\n",
    "\n",
    "    \n",
    "\n",
    "    "
   ]
  }
 ],
 "metadata": {
  "language_info": {
   "name": "python"
  }
 },
 "nbformat": 4,
 "nbformat_minor": 2
}
